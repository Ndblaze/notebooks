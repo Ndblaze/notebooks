{
    "cells": [
        {
            "cell_type": "markdown",
            "metadata": {
                "collapsed": true
            },
            "source": "# Web Scraping project work with python "
        },
        {
            "cell_type": "code",
            "execution_count": 1,
            "metadata": {},
            "outputs": [
                {
                    "name": "stdout",
                    "output_type": "stream",
                    "text": "Requirement already satisfied: yfinance==0.1.67 in /opt/conda/envs/Python-3.9/lib/python3.9/site-packages (0.1.67)\nRequirement already satisfied: multitasking>=0.0.7 in /opt/conda/envs/Python-3.9/lib/python3.9/site-packages (from yfinance==0.1.67) (0.0.11)\nRequirement already satisfied: requests>=2.20 in /opt/conda/envs/Python-3.9/lib/python3.9/site-packages (from yfinance==0.1.67) (2.26.0)\nRequirement already satisfied: pandas>=0.24 in /opt/conda/envs/Python-3.9/lib/python3.9/site-packages (from yfinance==0.1.67) (1.3.4)\nRequirement already satisfied: lxml>=4.5.1 in /opt/conda/envs/Python-3.9/lib/python3.9/site-packages (from yfinance==0.1.67) (4.7.1)\nRequirement already satisfied: numpy>=1.15 in /opt/conda/envs/Python-3.9/lib/python3.9/site-packages (from yfinance==0.1.67) (1.20.3)\nRequirement already satisfied: python-dateutil>=2.7.3 in /opt/conda/envs/Python-3.9/lib/python3.9/site-packages (from pandas>=0.24->yfinance==0.1.67) (2.8.2)\nRequirement already satisfied: pytz>=2017.3 in /opt/conda/envs/Python-3.9/lib/python3.9/site-packages (from pandas>=0.24->yfinance==0.1.67) (2021.3)\nRequirement already satisfied: six>=1.5 in /opt/conda/envs/Python-3.9/lib/python3.9/site-packages (from python-dateutil>=2.7.3->pandas>=0.24->yfinance==0.1.67) (1.15.0)\nRequirement already satisfied: charset-normalizer~=2.0.0 in /opt/conda/envs/Python-3.9/lib/python3.9/site-packages (from requests>=2.20->yfinance==0.1.67) (2.0.4)\nRequirement already satisfied: idna<4,>=2.5 in /opt/conda/envs/Python-3.9/lib/python3.9/site-packages (from requests>=2.20->yfinance==0.1.67) (3.3)\nRequirement already satisfied: urllib3<1.27,>=1.21.1 in /opt/conda/envs/Python-3.9/lib/python3.9/site-packages (from requests>=2.20->yfinance==0.1.67) (1.26.7)\nRequirement already satisfied: certifi>=2017.4.17 in /opt/conda/envs/Python-3.9/lib/python3.9/site-packages (from requests>=2.20->yfinance==0.1.67) (2022.6.15)\n"
                }
            ],
            "source": "!pip install yfinance==0.1.67\n#!pip install pandas==1.3.3"
        },
        {
            "cell_type": "code",
            "execution_count": 2,
            "metadata": {},
            "outputs": [],
            "source": "import yfinance as yf\nimport pandas as pd"
        },
        {
            "cell_type": "code",
            "execution_count": 3,
            "metadata": {},
            "outputs": [
                {
                    "data": {
                        "text/plain": "'United States'"
                    },
                    "execution_count": 3,
                    "metadata": {},
                    "output_type": "execute_result"
                }
            ],
            "source": "adm = yf.Ticker(\"AMD\")\nadm_info= adm.info\nadm_info['country']"
        },
        {
            "cell_type": "code",
            "execution_count": 4,
            "metadata": {},
            "outputs": [
                {
                    "data": {
                        "text/plain": "'Technology'"
                    },
                    "execution_count": 4,
                    "metadata": {},
                    "output_type": "execute_result"
                }
            ],
            "source": "adm_info[\"sector\"]"
        },
        {
            "cell_type": "code",
            "execution_count": 17,
            "metadata": {},
            "outputs": [
                {
                    "data": {
                        "text/plain": "0    219600\nName: Volume, dtype: int64"
                    },
                    "execution_count": 17,
                    "metadata": {},
                    "output_type": "execute_result"
                }
            ],
            "source": "adm_share_price_data = adm.history(period=\"max\")\nadm_share_price_data.reset_index(inplace=True)\nadm_volume = adm_share_price_data[\"Volume\"]\nadm_volume.head(1)"
        },
        {
            "cell_type": "code",
            "execution_count": 6,
            "metadata": {},
            "outputs": [
                {
                    "data": {
                        "text/plain": "<AxesSubplot:xlabel='Date'>"
                    },
                    "execution_count": 6,
                    "metadata": {},
                    "output_type": "execute_result"
                },
                {
                    "data": {
                        "image/png": "[encoded data removed]",
                        "text/plain": "<Figure size 432x288 with 1 Axes>"
                    },
                    "metadata": {
                        "needs_background": "light"
                    },
                    "output_type": "display_data"
                }
            ],
            "source": "adm_share_price_data.plot(x=\"Date\", y=\"Open\")"
        },
        {
            "cell_type": "markdown",
            "metadata": {},
            "source": "Dividends are the distribution of a companys profits to shareholders. In this case they are defined as an amount of money returned per share an investor owns"
        },
        {
            "cell_type": "code",
            "execution_count": null,
            "metadata": {},
            "outputs": [],
            "source": ""
        },
        {
            "cell_type": "code",
            "execution_count": null,
            "metadata": {},
            "outputs": [],
            "source": ""
        }
    ],
    "metadata": {
        "kernelspec": {
            "display_name": "Python 3.9",
            "language": "python",
            "name": "python3"
        },
        "language_info": {
            "codemirror_mode": {
                "name": "ipython",
                "version": 3
            },
            "file_extension": ".py",
            "mimetype": "text/x-python",
            "name": "python",
            "nbconvert_exporter": "python",
            "pygments_lexer": "ipython3",
            "version": "3.9.12"
        }
    },
    "nbformat": 4,
    "nbformat_minor": 1
}