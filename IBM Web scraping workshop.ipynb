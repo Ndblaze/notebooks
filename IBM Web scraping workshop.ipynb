{
    "cells": [
        {
            "cell_type": "markdown",
            "metadata": {
                "collapsed": true
            },
            "source": "# Using Webscraping to Extract IBM Data"
        },
        {
            "cell_type": "code",
            "execution_count": 1,
            "metadata": {},
            "outputs": [],
            "source": "import pandas as pd\nimport requests\nfrom bs4 import BeautifulSoup"
        },
        {
            "cell_type": "markdown",
            "metadata": {},
            "source": "I will download and read the HTML page with the request library"
        },
        {
            "cell_type": "code",
            "execution_count": 5,
            "metadata": {},
            "outputs": [],
            "source": "URL = \"https://cf-courses-data.s3.us.cloud-object-storage.appdomain.cloud/IBMDeveloperSkillsNetwork-PY0220EN-SkillsNetwork/labs/project/amazon_data_webpage.html\"\n\n# read data and store in variable \"html_data\"\nhtml_data = requests.get(URL).text"
        },
        {
            "cell_type": "code",
            "execution_count": 29,
            "metadata": {},
            "outputs": [
                {
                    "name": "stdout",
                    "output_type": "stream",
                    "text": "<title>Amazon.com, Inc. (AMZN) Stock Historical Prices &amp; Data - Yahoo Finance</title>\n"
                }
            ],
            "source": "#We will parse the data usibg beautifull soup (bs4)\n\nsoup = BeautifulSoup(html_data, 'html5lib')\n\nprint(soup.title) \n#viewing into the table to see what columns you need\n# print(soup.find(\"thead\").find_all(\"th\"))"
        },
        {
            "cell_type": "code",
            "execution_count": 31,
            "metadata": {},
            "outputs": [],
            "source": "# return the table to a dataframe and print it out\n\namazon_data = pd.DataFrame(columns=[\"Date\", \"Open\", \"High\", \"Low\", \"Close\", \"Volume\"])\n\nfor row in soup.find(\"tbody\").find_all(\"tr\"):\n    col = row.find_all(\"td\")\n    date = col[0].text\n    Open = col[1].text\n    high = col[2].text\n    low = col[3].text\n    close = col[4].text\n    adj_close = col[5].text\n    volume = col[6].text\n    \n    amazon_data = amazon_data.append({\"Date\":date, \"Open\":Open, \"High\":high, \"Low\":low, \"Close\":close, \"Adj Close\":adj_close, \"Volume\":volume}, ignore_index=True)"
        },
        {
            "cell_type": "code",
            "execution_count": 32,
            "metadata": {},
            "outputs": [
                {
                    "data": {
                        "text/html": "<div>\n<style scoped>\n    .dataframe tbody tr th:only-of-type {\n        vertical-align: middle;\n    }\n\n    .dataframe tbody tr th {\n        vertical-align: top;\n    }\n\n    .dataframe thead th {\n        text-align: right;\n    }\n</style>\n<table border=\"1\" class=\"dataframe\">\n  <thead>\n    <tr style=\"text-align: right;\">\n      <th></th>\n      <th>Date</th>\n      <th>Open</th>\n      <th>High</th>\n      <th>Low</th>\n      <th>Close</th>\n      <th>Volume</th>\n      <th>Adj Close</th>\n    </tr>\n  </thead>\n  <tbody>\n    <tr>\n      <th>0</th>\n      <td>Jan 01, 2021</td>\n      <td>3,270.00</td>\n      <td>3,363.89</td>\n      <td>3,086.00</td>\n      <td>3,206.20</td>\n      <td>71,528,900</td>\n      <td>3,206.20</td>\n    </tr>\n    <tr>\n      <th>1</th>\n      <td>Dec 01, 2020</td>\n      <td>3,188.50</td>\n      <td>3,350.65</td>\n      <td>3,072.82</td>\n      <td>3,256.93</td>\n      <td>77,556,200</td>\n      <td>3,256.93</td>\n    </tr>\n    <tr>\n      <th>2</th>\n      <td>Nov 01, 2020</td>\n      <td>3,061.74</td>\n      <td>3,366.80</td>\n      <td>2,950.12</td>\n      <td>3,168.04</td>\n      <td>90,810,500</td>\n      <td>3,168.04</td>\n    </tr>\n    <tr>\n      <th>3</th>\n      <td>Oct 01, 2020</td>\n      <td>3,208.00</td>\n      <td>3,496.24</td>\n      <td>3,019.00</td>\n      <td>3,036.15</td>\n      <td>116,226,100</td>\n      <td>3,036.15</td>\n    </tr>\n    <tr>\n      <th>4</th>\n      <td>Sep 01, 2020</td>\n      <td>3,489.58</td>\n      <td>3,552.25</td>\n      <td>2,871.00</td>\n      <td>3,148.73</td>\n      <td>115,899,300</td>\n      <td>3,148.73</td>\n    </tr>\n  </tbody>\n</table>\n</div>",
                        "text/plain": "           Date      Open      High       Low     Close       Volume Adj Close\n0  Jan 01, 2021  3,270.00  3,363.89  3,086.00  3,206.20   71,528,900  3,206.20\n1  Dec 01, 2020  3,188.50  3,350.65  3,072.82  3,256.93   77,556,200  3,256.93\n2  Nov 01, 2020  3,061.74  3,366.80  2,950.12  3,168.04   90,810,500  3,168.04\n3  Oct 01, 2020  3,208.00  3,496.24  3,019.00  3,036.15  116,226,100  3,036.15\n4  Sep 01, 2020  3,489.58  3,552.25  2,871.00  3,148.73  115,899,300  3,148.73"
                    },
                    "execution_count": 32,
                    "metadata": {},
                    "output_type": "execute_result"
                }
            ],
            "source": "amazon_data.head()"
        },
        {
            "cell_type": "code",
            "execution_count": 38,
            "metadata": {},
            "outputs": [
                {
                    "data": {
                        "text/html": "<div>\n<style scoped>\n    .dataframe tbody tr th:only-of-type {\n        vertical-align: middle;\n    }\n\n    .dataframe tbody tr th {\n        vertical-align: top;\n    }\n\n    .dataframe thead th {\n        text-align: right;\n    }\n</style>\n<table border=\"1\" class=\"dataframe\">\n  <thead>\n    <tr style=\"text-align: right;\">\n      <th></th>\n      <th>Date</th>\n      <th>Open</th>\n      <th>High</th>\n      <th>Low</th>\n      <th>Close</th>\n      <th>Volume</th>\n      <th>Adj Close</th>\n    </tr>\n  </thead>\n  <tbody>\n    <tr>\n      <th>60</th>\n      <td>Jan 01, 2016</td>\n      <td>656.29</td>\n      <td>657.72</td>\n      <td>547.18</td>\n      <td>587.00</td>\n      <td>130,200,900</td>\n      <td>587.00</td>\n    </tr>\n  </tbody>\n</table>\n</div>",
                        "text/plain": "            Date    Open    High     Low   Close       Volume Adj Close\n60  Jan 01, 2016  656.29  657.72  547.18  587.00  130,200,900    587.00"
                    },
                    "execution_count": 38,
                    "metadata": {},
                    "output_type": "execute_result"
                }
            ],
            "source": "#geting the last row of the data frame \n\namazon_data.iloc[-1:]"
        },
        {
            "cell_type": "code",
            "execution_count": null,
            "metadata": {},
            "outputs": [],
            "source": ""
        }
    ],
    "metadata": {
        "kernelspec": {
            "display_name": "Python 3.9",
            "language": "python",
            "name": "python3"
        },
        "language_info": {
            "codemirror_mode": {
                "name": "ipython",
                "version": 3
            },
            "file_extension": ".py",
            "mimetype": "text/x-python",
            "name": "python",
            "nbconvert_exporter": "python",
            "pygments_lexer": "ipython3",
            "version": "3.9.12"
        }
    },
    "nbformat": 4,
    "nbformat_minor": 1
}